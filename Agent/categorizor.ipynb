{
 "cells": [
  {
   "cell_type": "markdown",
   "metadata": {},
   "source": [
    "# LLM을 이용한 음식 카테고리 라벨링\n",
    "갖고 있는 식약처 음식 데이터에는 종류가 나눠저 있지 않아서 LLM을 이용해 데이터를 추가해보자!"
   ]
  },
  {
   "cell_type": "markdown",
   "metadata": {
    "vscode": {
     "languageId": "plaintext"
    }
   },
   "source": [
    "## 접근 방법\n",
    "각 Agent들이 분업하여 카테고리의 정확도를 높혀보자.\n",
    "\n",
    "    Categorizer: \n",
    "        input: 음식 이름, 프롬프트\n",
    "        output: {\"category_id\": \"카테고리 번호\", \"reason\": \"왜 그렇게 생각했는지 서술\"}\n",
    "        기능: 실제로 음식을 분류하는 역할\n",
    "    Evaluator:\n",
    "        input: 음식, 카테고리 번호\n",
    "        output: {\"is_approve\": True or False, \"reason\": \"어떤 부분이 틀렸는지 서술\"}\n",
    "        기능: 프롬프트를 개선하기위한 근거 도출\n",
    "    Optimizer:\n",
    "        input: 프롬프트, Categorizor.output, Evaluator.output\n",
    "        output: {\"new_prompt\": \"조금 더 최적화된 프롬프트\"}\n",
    "        기능: 근거를 토대로 프롬프트 최적화\n",
    "\n"
   ]
  },
  {
   "cell_type": "code",
   "execution_count": 9,
   "metadata": {},
   "outputs": [],
   "source": [
    "from langchain_ollama import ChatOllama\n",
    "from langchain_core.prompts import PromptTemplate\n",
    "from langchain_core.output_parsers import StrOutputParser, JsonOutputParser\n",
    "import json"
   ]
  },
  {
   "cell_type": "code",
   "execution_count": 90,
   "metadata": {},
   "outputs": [],
   "source": [
    "llm = ChatOllama(\n",
    "    model=\"gemma3\",\n",
    "    temperature=0.0,  # 창의성 조절 (0.0 ~ 1.0)\n",
    "    top_k=40,         # 다음 토큰 선택 시 고려할 상위 k개 토큰\n",
    "    top_p=0.9,        # 누적 확률이 p를 넘지 않는 가장 작은 토큰 집합\n",
    "    num_ctx=2048,     # 컨텍스트 윈도우 크기\n",
    "    repeat_penalty=1.1,  # 반복 패널티 (1.0 이상)\n",
    "    num_predict=512,  # 생성할 최대 토큰 수\n",
    ")"
   ]
  },
  {
   "cell_type": "code",
   "execution_count": 136,
   "metadata": {},
   "outputs": [],
   "source": [
    "category_list = [\n",
    "    \"밥/죽/면류\",\n",
    "    \"국/찌개/탕류\",\n",
    "    \"찜/조림류\",\n",
    "    \"구이/볶음류\",\n",
    "    \"튀김/전류\",\n",
    "    \"무침/숙채/샐러드류\",\n",
    "    \"김치/절임류\",\n",
    "    \"빵/샌드위치/버거/피자류\",\n",
    "    \"분식류\",\n",
    "    \"후식/간식류\",\n",
    "    \"음료\",\n",
    "    \"기타\"\n",
    " ]"
   ]
  },
  {
   "cell_type": "markdown",
   "metadata": {},
   "source": [
    "## Categorizer"
   ]
  },
  {
   "cell_type": "code",
   "execution_count": 97,
   "metadata": {},
   "outputs": [],
   "source": [
    "init_categorizer_prompt = \"\"\"\n",
    "넌 음식 분류 모델이야. 음식을 입력 받으면 다음 같은 형식을 맞춰서 한번만 출력해.\n",
    "1. 밥/죽/면류 (Rice/Porridge/Noodles): 밥, 죽, 국수, 파스타 등 곡물/면이 주를 이루는 형태\n",
    "2. 국/찌개/탕류 (Soups/Stews/Casseroles): 국물이 많은 형태\n",
    "3. 찜/조림류 (Steamed/Braised Dishes): 찌거나 국물이 적게 졸여진 형태\n",
    "4. 구이/볶음류 (Grilled/Stir-fried Dishes): 굽거나 기름에 볶아진 형태\n",
    "5. 튀김/전류 (Fried/Pancake Dishes): 기름에 튀기거나 부쳐진 형태\n",
    "6. 무침/숙채/샐러드류 (Seasoned Salads - Cooked/Raw): 데치거나 익힌 채소 등을 양념에 버무리거나, 생채소에 드레싱을 곁들인 형태\n",
    "7. 김치/절임류 (Kimchi/Pickles): 발효되거나 절여진 형태의 반찬\n",
    "8. 빵/샌드위치/버거/피자류 (Bread/Sandwiches/Burgers/Pizzas): 빵이나 도우가 주를 이루는 형태 (인기 품목은 별도 L1으로 분리)\n",
    "9. 분식류 (Snack Foods - Korean Style): 한국 길거리/분식집에서 인기 있는 특정 품목 모음\n",
    "10. 후식/간식류 (Desserts/Snacks): 달콤하거나 식사 외에 가볍게 먹는 형태\n",
    "11. 음료 (Beverages): 마시는 것\n",
    "12. 기타 (Others): 위 카테고리에 속하기 어려운 품목 (예: 과일 단품, 마른 안주 등)\n",
    "입력: {food_name}\n",
    "출력: \\'{{category_id:1, reason:카테고리를 선택한 이유 3줄 정도}}\\'\n",
    "\"\"\"\n",
    "# 출력: \\'{{'category_id': '1', 'reason': '카테고리를 선택한 이유 3줄 정도'}}\\'\n",
    "categorizer_prompt = PromptTemplate.from_template(init_categorizer_prompt)"
   ]
  },
  {
   "cell_type": "code",
   "execution_count": 98,
   "metadata": {},
   "outputs": [],
   "source": [
    "categorizer = (categorizer_prompt | llm)"
   ]
  },
  {
   "cell_type": "code",
   "execution_count": 177,
   "metadata": {},
   "outputs": [],
   "source": [
    "food_name = \"덮밥_낙지\"\n",
    "cls_response = categorizer.invoke({\"food_name\": food_name})"
   ]
  },
  {
   "cell_type": "markdown",
   "metadata": {},
   "source": [
    "### 출력 통제 과정"
   ]
  },
  {
   "cell_type": "code",
   "execution_count": null,
   "metadata": {},
   "outputs": [],
   "source": []
  },
  {
   "cell_type": "markdown",
   "metadata": {},
   "source": [
    "### 최종 출력"
   ]
  },
  {
   "cell_type": "code",
   "execution_count": 179,
   "metadata": {},
   "outputs": [
    {
     "data": {
      "text/plain": [
       "{'category_id': '밥/죽/면류',\n",
       " 'reason': '낙지는 밥과 함께 제공되는 경우가 많고, 덮밥은 밥을 주재료로 하는 요리이므로 밥/죽/면류(Rice/Porridge/Noodles) 카테고리에 속합니다. 또한, 덮밥은 밥 위에 다양한 재료를 올려 먹는 형태로, 밥을 주재료로 하는 요리라는 점에서 해당 카테고리에 적합합니다. 덮밥은 밥을 주재료로 하는 요리라는 점에서 해당 카테고리에 적합합니다.'}"
      ]
     },
     "execution_count": 179,
     "metadata": {},
     "output_type": "execute_result"
    }
   ],
   "source": [
    "cls_result = json.loads(cls_response.content.replace('`', '').replace('json', ''))\n",
    "cls_result[\"category_id\"] = category_list[cls_result[\"category_id\"]-1]\n",
    "cls_result"
   ]
  },
  {
   "cell_type": "markdown",
   "metadata": {},
   "source": [
    "## Evaluator"
   ]
  },
  {
   "cell_type": "code",
   "execution_count": 194,
   "metadata": {},
   "outputs": [],
   "source": [
    "init_evaluator_prompt = \"\"\"\n",
    "넌 객관적인 모델 평가자야. 분류해야할 음식 이름과 분류모델의 출력을 입력 받아서 형식에 맞게 출력해.\n",
    "ex)\n",
    "입력: 돈까스->덮밥_낙지->{{'category_id': 밥/죽/면류, 'reason': '낙지는 밥과 함께 제공되는 경우가 많고, 덮밥은 밥을 주재료로 하는 요리이므로 밥/죽/면류(Rice/Porridge/Noodles) 카테고리에 속합니다. 또한, 덮밥은 밥 위에 다양한 재료를 올려 조리하는 형태이므로 이 카테고리 분류에 적합합니다. 덮밥은 밥을 주재료로 하는 요리이므로 이 카테고리 분류에 적합합니다.'}}\n",
    "출력: \\'{{is_approve:true, reason: '덮밥은 밥을 주재료로 하는 요리라는 표현이 정확하고 최종적으로 분류가 틀리지 않았습다.'}}\\'\n",
    "\n",
    "입력: {food_name}->{cls_result}\n",
    "출력: \n",
    "\"\"\"\n",
    "evaluator_prompt = PromptTemplate.from_template(init_evaluator_prompt)"
   ]
  },
  {
   "cell_type": "code",
   "execution_count": 195,
   "metadata": {},
   "outputs": [],
   "source": [
    "evaluator = (evaluator_prompt | llm)"
   ]
  },
  {
   "cell_type": "code",
   "execution_count": 196,
   "metadata": {},
   "outputs": [],
   "source": [
    "eval_response = evaluator.invoke({\"food_name\": food_name, \"cls_result\": cls_result})"
   ]
  },
  {
   "cell_type": "code",
   "execution_count": 197,
   "metadata": {},
   "outputs": [
    {
     "name": "stdout",
     "output_type": "stream",
     "text": [
      "```json\n",
      "{\n",
      "  \"is_approve\": true,\n",
      "  \"reason\": \"덮밥은 밥을 주재료로 하는 요리라는 표현이 정확하고 최종적으로 분류가 틀리지 않았습니다.\"\n",
      "}\n",
      "```\n",
      "\n"
     ]
    }
   ],
   "source": [
    "print(eval_response.content)"
   ]
  },
  {
   "cell_type": "code",
   "execution_count": 199,
   "metadata": {},
   "outputs": [
    {
     "data": {
      "text/plain": [
       "{'is_approve': True,\n",
       " 'reason': '덮밥은 밥을 주재료로 하는 요리라는 표현이 정확하고 최종적으로 분류가 틀리지 않았습니다.'}"
      ]
     },
     "execution_count": 199,
     "metadata": {},
     "output_type": "execute_result"
    }
   ],
   "source": [
    "eval_result = json.loads(eval_response.content.replace('`', '').replace('json', ''))\n",
    "eval_result"
   ]
  },
  {
   "cell_type": "markdown",
   "metadata": {},
   "source": [
    "## Optimizer"
   ]
  },
  {
   "cell_type": "code",
   "execution_count": 200,
   "metadata": {},
   "outputs": [],
   "source": [
    "init_optimizer_prompt = \"\"\"\n",
    "넌 프롬프트 최적화 모델이야. 아래 정보를 바탕으로 더 나은 음식 분류 프롬프트를 제안해.\n",
    "- 기존 프롬프트: {old_prompt}\n",
    "- Categorizer 결과: {categorizer_output}\n",
    "- Evaluator 결과: {evaluator_output}\n",
    "\n",
    "이 근거를 바탕으로, 더 정확한 분류가 가능하도록 프롬프트를 수정해서 new_prompt만 JSON으로 반환해.\n",
    "예시: {{\"new_prompt\": \"수정된 프롬프트 내용\"}}\n",
    "\"\"\"\n",
    "\n",
    "optimizer_prompt = PromptTemplate.from_template(init_optimizer_prompt)"
   ]
  },
  {
   "cell_type": "code",
   "execution_count": 201,
   "metadata": {},
   "outputs": [],
   "source": [
    "optimizer = (optimizer_prompt | llm)"
   ]
  },
  {
   "cell_type": "code",
   "execution_count": 202,
   "metadata": {},
   "outputs": [],
   "source": [
    "opt_response = optimizer.invoke({\n",
    "    \"old_prompt\": init_categorizer_prompt,\n",
    "    \"categorizer_output\": cls_result,\n",
    "    \"evaluator_output\": eval_result[\"reason\"]\n",
    "})"
   ]
  },
  {
   "cell_type": "code",
   "execution_count": 204,
   "metadata": {},
   "outputs": [
    {
     "name": "stdout",
     "output_type": "stream",
     "text": [
      "```json\n",
      "{\n",
      "  \"new_prompt\": \"넌 음식 분류 전문가 모델이야. 음식 이름을 입력받아 다음 형식에 맞춰서 한 번만 출력해. 각 카테고리 선택 이유를 3줄 이내로 설명해야 해.\\n\\n1. 밥/죽/면류 (Rice/Porridge/Noodles): 밥, 죽, 국수, 파스타 등 곡물/면이 주를 이루는 형태\\n2. 국/찌개/탕류 (Soups/Stews/Casseroles): 국물이 많은 형태\\n3. 찜/조림류 (Steamed/Braised Dishes): 찌거나 국물이 적게 졸여진 형태\\n4. 구이/볶음류 (Grilled/Stir-fried Dishes): 굽거나 기름에 볶아진 형태\\n5. 튀김/전류 (Fried/Pancake Dishes): 기름에 튀기거나 부쳐진 형태\\n6. 무침/숙채/샐러드류 (Seasoned Salads - Cooked/Raw): 데치거나 익힌 채소 등을 양념에 버무리거나, 생채소에 드레싱을 곁들인 형태\\n7. 김치/절임류 (Kimchi/Pickles): 발효되거나 절여진 형태의 반찬\\n8. 빵/샌드위치/버거/피자류 (Bread/Sandwiches/Burgers/Pizzas): 빵이나 도우가 주를 이루는 형태 (인기 품목은 별도 L1으로 분리)\\n9. 분식류 (Snack Foods - Korean Style): 한국 길거리/분식집에서 인기 있는 특정 품목 모음\\n10. 후식/간식류 (Desserts/Snacks): 달콤하거나 식사 외에 가볍게 먹는 형태\\n11. 음료 (Beverages): 마시는 것\\n12. 기타 (Others): 위 카테고리에 속하기 어려운 품목 (예: 과일 단품, 마른 안주 등)\\n\\n입력: {food_name}\\n출력: '{{category_id:1, reason:카테고리를 선택한 이유 3줄 이내로 설명}'\"\n",
      "}\n",
      "```\n"
     ]
    }
   ],
   "source": [
    "print(opt_response.content)"
   ]
  },
  {
   "cell_type": "code",
   "execution_count": 205,
   "metadata": {},
   "outputs": [
    {
     "data": {
      "text/plain": [
       "{'new_prompt': \"넌 음식 분류 전문가 모델이야. 음식 이름을 입력받아 다음 형식에 맞춰서 한 번만 출력해. 각 카테고리 선택 이유를 3줄 이내로 설명해야 해.\\n\\n1. 밥/죽/면류 (Rice/Porridge/Noodles): 밥, 죽, 국수, 파스타 등 곡물/면이 주를 이루는 형태\\n2. 국/찌개/탕류 (Soups/Stews/Casseroles): 국물이 많은 형태\\n3. 찜/조림류 (Steamed/Braised Dishes): 찌거나 국물이 적게 졸여진 형태\\n4. 구이/볶음류 (Grilled/Stir-fried Dishes): 굽거나 기름에 볶아진 형태\\n5. 튀김/전류 (Fried/Pancake Dishes): 기름에 튀기거나 부쳐진 형태\\n6. 무침/숙채/샐러드류 (Seasoned Salads - Cooked/Raw): 데치거나 익힌 채소 등을 양념에 버무리거나, 생채소에 드레싱을 곁들인 형태\\n7. 김치/절임류 (Kimchi/Pickles): 발효되거나 절여진 형태의 반찬\\n8. 빵/샌드위치/버거/피자류 (Bread/Sandwiches/Burgers/Pizzas): 빵이나 도우가 주를 이루는 형태 (인기 품목은 별도 L1으로 분리)\\n9. 분식류 (Snack Foods - Korean Style): 한국 길거리/분식집에서 인기 있는 특정 품목 모음\\n10. 후식/간식류 (Desserts/Snacks): 달콤하거나 식사 외에 가볍게 먹는 형태\\n11. 음료 (Beverages): 마시는 것\\n12. 기타 (Others): 위 카테고리에 속하기 어려운 품목 (예: 과일 단품, 마른 안주 등)\\n\\n입력: {food_name}\\n출력: '{{category_id:1, reason:카테고리를 선택한 이유 3줄 이내로 설명}'\"}"
      ]
     },
     "execution_count": 205,
     "metadata": {},
     "output_type": "execute_result"
    }
   ],
   "source": [
    "opt_result = json.loads(opt_response.content.replace('`', '').replace('json', ''))\n",
    "opt_result"
   ]
  },
  {
   "cell_type": "code",
   "execution_count": 206,
   "metadata": {},
   "outputs": [
    {
     "name": "stdout",
     "output_type": "stream",
     "text": [
      "넌 음식 분류 전문가 모델이야. 음식 이름을 입력받아 다음 형식에 맞춰서 한 번만 출력해. 각 카테고리 선택 이유를 3줄 이내로 설명해야 해.\n",
      "\n",
      "1. 밥/죽/면류 (Rice/Porridge/Noodles): 밥, 죽, 국수, 파스타 등 곡물/면이 주를 이루는 형태\n",
      "2. 국/찌개/탕류 (Soups/Stews/Casseroles): 국물이 많은 형태\n",
      "3. 찜/조림류 (Steamed/Braised Dishes): 찌거나 국물이 적게 졸여진 형태\n",
      "4. 구이/볶음류 (Grilled/Stir-fried Dishes): 굽거나 기름에 볶아진 형태\n",
      "5. 튀김/전류 (Fried/Pancake Dishes): 기름에 튀기거나 부쳐진 형태\n",
      "6. 무침/숙채/샐러드류 (Seasoned Salads - Cooked/Raw): 데치거나 익힌 채소 등을 양념에 버무리거나, 생채소에 드레싱을 곁들인 형태\n",
      "7. 김치/절임류 (Kimchi/Pickles): 발효되거나 절여진 형태의 반찬\n",
      "8. 빵/샌드위치/버거/피자류 (Bread/Sandwiches/Burgers/Pizzas): 빵이나 도우가 주를 이루는 형태 (인기 품목은 별도 L1으로 분리)\n",
      "9. 분식류 (Snack Foods - Korean Style): 한국 길거리/분식집에서 인기 있는 특정 품목 모음\n",
      "10. 후식/간식류 (Desserts/Snacks): 달콤하거나 식사 외에 가볍게 먹는 형태\n",
      "11. 음료 (Beverages): 마시는 것\n",
      "12. 기타 (Others): 위 카테고리에 속하기 어려운 품목 (예: 과일 단품, 마른 안주 등)\n",
      "\n",
      "입력: {food_name}\n",
      "출력: '{{category_id:1, reason:카테고리를 선택한 이유 3줄 이내로 설명}'\n"
     ]
    }
   ],
   "source": [
    "print(opt_result[\"new_prompt\"])"
   ]
  },
  {
   "cell_type": "code",
   "execution_count": 208,
   "metadata": {},
   "outputs": [
    {
     "name": "stdout",
     "output_type": "stream",
     "text": [
      "\n",
      "넌 음식 분류 모델이야. 음식을 입력 받으면 다음 같은 형식을 맞춰서 한번만 출력해.\n",
      "1. 밥/죽/면류 (Rice/Porridge/Noodles): 밥, 죽, 국수, 파스타 등 곡물/면이 주를 이루는 형태\n",
      "2. 국/찌개/탕류 (Soups/Stews/Casseroles): 국물이 많은 형태\n",
      "3. 찜/조림류 (Steamed/Braised Dishes): 찌거나 국물이 적게 졸여진 형태\n",
      "4. 구이/볶음류 (Grilled/Stir-fried Dishes): 굽거나 기름에 볶아진 형태\n",
      "5. 튀김/전류 (Fried/Pancake Dishes): 기름에 튀기거나 부쳐진 형태\n",
      "6. 무침/숙채/샐러드류 (Seasoned Salads - Cooked/Raw): 데치거나 익힌 채소 등을 양념에 버무리거나, 생채소에 드레싱을 곁들인 형태\n",
      "7. 김치/절임류 (Kimchi/Pickles): 발효되거나 절여진 형태의 반찬\n",
      "8. 빵/샌드위치/버거/피자류 (Bread/Sandwiches/Burgers/Pizzas): 빵이나 도우가 주를 이루는 형태 (인기 품목은 별도 L1으로 분리)\n",
      "9. 분식류 (Snack Foods - Korean Style): 한국 길거리/분식집에서 인기 있는 특정 품목 모음\n",
      "10. 후식/간식류 (Desserts/Snacks): 달콤하거나 식사 외에 가볍게 먹는 형태\n",
      "11. 음료 (Beverages): 마시는 것\n",
      "12. 기타 (Others): 위 카테고리에 속하기 어려운 품목 (예: 과일 단품, 마른 안주 등)\n",
      "입력: {food_name}\n",
      "출력: '{{category_id:1, reason:카테고리를 선택한 이유 3줄 정도}}'\n",
      "\n"
     ]
    }
   ],
   "source": [
    "print(init_categorizer_prompt)"
   ]
  },
  {
   "cell_type": "markdown",
   "metadata": {},
   "source": [
    "## 조합"
   ]
  },
  {
   "cell_type": "code",
   "execution_count": 218,
   "metadata": {},
   "outputs": [],
   "source": [
    "food_list = [\"국밥\", \"덮밥\", \"토마토_스파게티\", \"신발\"]"
   ]
  },
  {
   "cell_type": "code",
   "execution_count": 219,
   "metadata": {},
   "outputs": [],
   "source": [
    "max_try = 3\n",
    "fi = 0"
   ]
  },
  {
   "cell_type": "code",
   "execution_count": 220,
   "metadata": {},
   "outputs": [],
   "source": [
    "opt_categorizer_prompt = init_categorizer_prompt"
   ]
  },
  {
   "cell_type": "code",
   "execution_count": 221,
   "metadata": {},
   "outputs": [
    {
     "name": "stdout",
     "output_type": "stream",
     "text": [
      "신발 0 번째\n",
      "before prompt: \n",
      "넌 음식 분류 모델이야. 음식을 입력 받으면 다음 같은 형식을 맞춰서 한번만 출력해.\n",
      "1. 밥/죽/면류 (Rice/Porridge/Noodles): 밥, 죽, 국수, 파스타 등 곡물/면이 주를 이루는 형태\n",
      "2. 국/찌개/탕류 (Soups/Stews/Casseroles): 국물이 많은 형태\n",
      "3. 찜/조림류 (Steamed/Braised Dishes): 찌거나 국물이 적게 졸여진 형태\n",
      "4. 구이/볶음류 (Grilled/Stir-fried Dishes): 굽거나 기름에 볶아진 형태\n",
      "5. 튀김/전류 (Fried/Pancake Dishes): 기름에 튀기거나 부쳐진 형태\n",
      "6. 무침/숙채/샐러드류 (Seasoned Salads - Cooked/Raw): 데치거나 익힌 채소 등을 양념에 버무리거나, 생채소에 드레싱을 곁들인 형태\n",
      "7. 김치/절임류 (Kimchi/Pickles): 발효되거나 절여진 형태의 반찬\n",
      "8. 빵/샌드위치/버거/피자류 (Bread/Sandwiches/Burgers/Pizzas): 빵이나 도우가 주를 이루는 형태 (인기 품목은 별도 L1으로 분리)\n",
      "9. 분식류 (Snack Foods - Korean Style): 한국 길거리/분식집에서 인기 있는 특정 품목 모음\n",
      "10. 후식/간식류 (Desserts/Snacks): 달콤하거나 식사 외에 가볍게 먹는 형태\n",
      "11. 음료 (Beverages): 마시는 것\n",
      "12. 기타 (Others): 위 카테고리에 속하기 어려운 품목 (예: 과일 단품, 마른 안주 등)\n",
      "입력: {food_name}\n",
      "출력: '{{category_id:1, reason:카테고리를 선택한 이유 3줄 정도}}'\n",
      "\n",
      "eval_reason: 신발은 음식과 관련이 없는 물품이므로 음식 분류 모델의 범위를 벗어납니다. 음식과 관련된 품목을 분류하는 모델이 아니기 때문입니다. 또한, 신발은 식재료나 조리 과정에 사용되지 않으므로 음식 분류의 대상이 아닙니다.\n",
      "after prompt: 넌 음식 분류 모델이야. 음식 이름을 입력받아 다음 형식을 맞춰서 출력해. 각 항목에는 음식의 특징을 설명하는 이유를 3줄 이내로 간략하게 작성해야 해. \n",
      "\n",
      "1. 밥/죽/면류 (Rice/Porridge/Noodles): 밥, 죽, 국수, 파스타 등 곡물/면이 주를 이루는 형태\n",
      "2. 국/찌개/탕류 (Soups/Stews/Casseroles): 국물이 많은 형태\n",
      "3. 찜/조림류 (Steamed/Braised Dishes): 찌거나 국물이 적게 졸여진 형태\n",
      "4. 구이/볶음류 (Grilled/Stir-fried Dishes): 굽거나 기름에 볶아진 형태\n",
      "5. 튀김/전류 (Fried/Pancake Dishes): 기름에 튀기거나 부쳐진 형태\n",
      "6. 무침/숙채/샐러드류 (Seasoned Salads - Cooked/Raw): 데치거나 익힌 채소 등을 양념에 버무리거나, 생채소에 드레싱을 곁들인 형태\n",
      "7. 김치/절임류 (Kimchi/Pickles): 발효되거나 절여진 형태의 반찬\n",
      "8. 빵/샌드위치/버거/피자류 (Bread/Sandwiches/Burgers/Pizzas): 빵이나 도우가 주를 이루는 형태 (인기 품목은 별도 L1으로 분리)\n",
      "9. 분식류 (Snack Foods - Korean Style): 한국 길거리/분식집에서 인기 있는 특정 품목 모음\n",
      "10. 후식/간식류 (Desserts/Snacks): 달콤하거나 식사 외에 가볍게 먹는 형태\n",
      "11. 음료 (Beverages): 마시는 것\n",
      "12. 기타 (Others): 위 카테고리에 속하기 어려운 품목 (예: 과일 단품, 마른 안주 등)\n",
      "\n",
      "입력: {food_name}\n",
      "출력: '{{category_id:1, reason:음식의 특징을 설명하는 이유 3줄 이내}}'\n"
     ]
    },
    {
     "ename": "JSONDecodeError",
     "evalue": "Expecting property name enclosed in double quotes: line 1 column 2 (char 1)",
     "output_type": "error",
     "traceback": [
      "\u001b[31m---------------------------------------------------------------------------\u001b[39m",
      "\u001b[31mJSONDecodeError\u001b[39m                           Traceback (most recent call last)",
      "\u001b[36mCell\u001b[39m\u001b[36m \u001b[39m\u001b[32mIn[221]\u001b[39m\u001b[32m, line 4\u001b[39m\n\u001b[32m      2\u001b[39m \u001b[38;5;28;01mfor\u001b[39;00m i \u001b[38;5;129;01min\u001b[39;00m \u001b[38;5;28mrange\u001b[39m(max_try):\n\u001b[32m      3\u001b[39m     cls_response = (PromptTemplate.from_template(opt_categorizer_prompt) | llm).invoke({\u001b[33m\"\u001b[39m\u001b[33mfood_name\u001b[39m\u001b[33m\"\u001b[39m: food_name})\n\u001b[32m----> \u001b[39m\u001b[32m4\u001b[39m     cls_result = \u001b[43mjson\u001b[49m\u001b[43m.\u001b[49m\u001b[43mloads\u001b[49m\u001b[43m(\u001b[49m\u001b[43mcls_response\u001b[49m\u001b[43m.\u001b[49m\u001b[43mcontent\u001b[49m\u001b[43m.\u001b[49m\u001b[43mreplace\u001b[49m\u001b[43m(\u001b[49m\u001b[33;43m'\u001b[39;49m\u001b[33;43m`\u001b[39;49m\u001b[33;43m'\u001b[39;49m\u001b[43m,\u001b[49m\u001b[43m \u001b[49m\u001b[33;43m'\u001b[39;49m\u001b[33;43m'\u001b[39;49m\u001b[43m)\u001b[49m\u001b[43m.\u001b[49m\u001b[43mreplace\u001b[49m\u001b[43m(\u001b[49m\u001b[33;43m'\u001b[39;49m\u001b[33;43mjson\u001b[39;49m\u001b[33;43m'\u001b[39;49m\u001b[43m,\u001b[49m\u001b[43m \u001b[49m\u001b[33;43m'\u001b[39;49m\u001b[33;43m'\u001b[39;49m\u001b[43m)\u001b[49m\u001b[43m)\u001b[49m\n\u001b[32m      5\u001b[39m     cls_result[\u001b[33m\"\u001b[39m\u001b[33mcategory_id\u001b[39m\u001b[33m\"\u001b[39m] = category_list[cls_result[\u001b[33m\"\u001b[39m\u001b[33mcategory_id\u001b[39m\u001b[33m\"\u001b[39m]-\u001b[32m1\u001b[39m]\n\u001b[32m      7\u001b[39m     eval_response = evaluator.invoke({\u001b[33m\"\u001b[39m\u001b[33mfood_name\u001b[39m\u001b[33m\"\u001b[39m: food_name, \u001b[33m\"\u001b[39m\u001b[33mcls_result\u001b[39m\u001b[33m\"\u001b[39m: cls_result})\n",
      "\u001b[36mFile \u001b[39m\u001b[32mC:\\ProgramData\\miniconda3\\Lib\\json\\__init__.py:346\u001b[39m, in \u001b[36mloads\u001b[39m\u001b[34m(s, cls, object_hook, parse_float, parse_int, parse_constant, object_pairs_hook, **kw)\u001b[39m\n\u001b[32m    341\u001b[39m     s = s.decode(detect_encoding(s), \u001b[33m'\u001b[39m\u001b[33msurrogatepass\u001b[39m\u001b[33m'\u001b[39m)\n\u001b[32m    343\u001b[39m \u001b[38;5;28;01mif\u001b[39;00m (\u001b[38;5;28mcls\u001b[39m \u001b[38;5;129;01mis\u001b[39;00m \u001b[38;5;28;01mNone\u001b[39;00m \u001b[38;5;129;01mand\u001b[39;00m object_hook \u001b[38;5;129;01mis\u001b[39;00m \u001b[38;5;28;01mNone\u001b[39;00m \u001b[38;5;129;01mand\u001b[39;00m\n\u001b[32m    344\u001b[39m         parse_int \u001b[38;5;129;01mis\u001b[39;00m \u001b[38;5;28;01mNone\u001b[39;00m \u001b[38;5;129;01mand\u001b[39;00m parse_float \u001b[38;5;129;01mis\u001b[39;00m \u001b[38;5;28;01mNone\u001b[39;00m \u001b[38;5;129;01mand\u001b[39;00m\n\u001b[32m    345\u001b[39m         parse_constant \u001b[38;5;129;01mis\u001b[39;00m \u001b[38;5;28;01mNone\u001b[39;00m \u001b[38;5;129;01mand\u001b[39;00m object_pairs_hook \u001b[38;5;129;01mis\u001b[39;00m \u001b[38;5;28;01mNone\u001b[39;00m \u001b[38;5;129;01mand\u001b[39;00m \u001b[38;5;129;01mnot\u001b[39;00m kw):\n\u001b[32m--> \u001b[39m\u001b[32m346\u001b[39m     \u001b[38;5;28;01mreturn\u001b[39;00m \u001b[43m_default_decoder\u001b[49m\u001b[43m.\u001b[49m\u001b[43mdecode\u001b[49m\u001b[43m(\u001b[49m\u001b[43ms\u001b[49m\u001b[43m)\u001b[49m\n\u001b[32m    347\u001b[39m \u001b[38;5;28;01mif\u001b[39;00m \u001b[38;5;28mcls\u001b[39m \u001b[38;5;129;01mis\u001b[39;00m \u001b[38;5;28;01mNone\u001b[39;00m:\n\u001b[32m    348\u001b[39m     \u001b[38;5;28mcls\u001b[39m = JSONDecoder\n",
      "\u001b[36mFile \u001b[39m\u001b[32mC:\\ProgramData\\miniconda3\\Lib\\json\\decoder.py:338\u001b[39m, in \u001b[36mJSONDecoder.decode\u001b[39m\u001b[34m(self, s, _w)\u001b[39m\n\u001b[32m    333\u001b[39m \u001b[38;5;28;01mdef\u001b[39;00m\u001b[38;5;250m \u001b[39m\u001b[34mdecode\u001b[39m(\u001b[38;5;28mself\u001b[39m, s, _w=WHITESPACE.match):\n\u001b[32m    334\u001b[39m \u001b[38;5;250m    \u001b[39m\u001b[33;03m\"\"\"Return the Python representation of ``s`` (a ``str`` instance\u001b[39;00m\n\u001b[32m    335\u001b[39m \u001b[33;03m    containing a JSON document).\u001b[39;00m\n\u001b[32m    336\u001b[39m \n\u001b[32m    337\u001b[39m \u001b[33;03m    \"\"\"\u001b[39;00m\n\u001b[32m--> \u001b[39m\u001b[32m338\u001b[39m     obj, end = \u001b[38;5;28;43mself\u001b[39;49m\u001b[43m.\u001b[49m\u001b[43mraw_decode\u001b[49m\u001b[43m(\u001b[49m\u001b[43ms\u001b[49m\u001b[43m,\u001b[49m\u001b[43m \u001b[49m\u001b[43midx\u001b[49m\u001b[43m=\u001b[49m\u001b[43m_w\u001b[49m\u001b[43m(\u001b[49m\u001b[43ms\u001b[49m\u001b[43m,\u001b[49m\u001b[43m \u001b[49m\u001b[32;43m0\u001b[39;49m\u001b[43m)\u001b[49m\u001b[43m.\u001b[49m\u001b[43mend\u001b[49m\u001b[43m(\u001b[49m\u001b[43m)\u001b[49m\u001b[43m)\u001b[49m\n\u001b[32m    339\u001b[39m     end = _w(s, end).end()\n\u001b[32m    340\u001b[39m     \u001b[38;5;28;01mif\u001b[39;00m end != \u001b[38;5;28mlen\u001b[39m(s):\n",
      "\u001b[36mFile \u001b[39m\u001b[32mC:\\ProgramData\\miniconda3\\Lib\\json\\decoder.py:354\u001b[39m, in \u001b[36mJSONDecoder.raw_decode\u001b[39m\u001b[34m(self, s, idx)\u001b[39m\n\u001b[32m    345\u001b[39m \u001b[38;5;250m\u001b[39m\u001b[33;03m\"\"\"Decode a JSON document from ``s`` (a ``str`` beginning with\u001b[39;00m\n\u001b[32m    346\u001b[39m \u001b[33;03ma JSON document) and return a 2-tuple of the Python\u001b[39;00m\n\u001b[32m    347\u001b[39m \u001b[33;03mrepresentation and the index in ``s`` where the document ended.\u001b[39;00m\n\u001b[32m   (...)\u001b[39m\u001b[32m    351\u001b[39m \n\u001b[32m    352\u001b[39m \u001b[33;03m\"\"\"\u001b[39;00m\n\u001b[32m    353\u001b[39m \u001b[38;5;28;01mtry\u001b[39;00m:\n\u001b[32m--> \u001b[39m\u001b[32m354\u001b[39m     obj, end = \u001b[38;5;28;43mself\u001b[39;49m\u001b[43m.\u001b[49m\u001b[43mscan_once\u001b[49m\u001b[43m(\u001b[49m\u001b[43ms\u001b[49m\u001b[43m,\u001b[49m\u001b[43m \u001b[49m\u001b[43midx\u001b[49m\u001b[43m)\u001b[49m\n\u001b[32m    355\u001b[39m \u001b[38;5;28;01mexcept\u001b[39;00m \u001b[38;5;167;01mStopIteration\u001b[39;00m \u001b[38;5;28;01mas\u001b[39;00m err:\n\u001b[32m    356\u001b[39m     \u001b[38;5;28;01mraise\u001b[39;00m JSONDecodeError(\u001b[33m\"\u001b[39m\u001b[33mExpecting value\u001b[39m\u001b[33m\"\u001b[39m, s, err.value) \u001b[38;5;28;01mfrom\u001b[39;00m\u001b[38;5;250m \u001b[39m\u001b[38;5;28;01mNone\u001b[39;00m\n",
      "\u001b[31mJSONDecodeError\u001b[39m: Expecting property name enclosed in double quotes: line 1 column 2 (char 1)"
     ]
    }
   ],
   "source": [
    "for food_name in food_list:\n",
    "    for i in range(max_try):\n",
    "        cls_response = (PromptTemplate.from_template(opt_categorizer_prompt) | llm).invoke({\"food_name\": food_name})\n",
    "        cls_result = json.loads(cls_response.content.replace('`', '').replace('json', ''))\n",
    "        cls_result[\"category_id\"] = category_list[cls_result[\"category_id\"]-1]\n",
    "        \n",
    "        eval_response = evaluator.invoke({\"food_name\": food_name, \"cls_result\": cls_result})\n",
    "        eval_result = json.loads(eval_response.content.replace('`', '').replace('json', ''))\n",
    "        \n",
    "        if eval_result[\"is_approve\"]:\n",
    "            break\n",
    "        \n",
    "        opt_response = optimizer.invoke({\n",
    "            \"old_prompt\": init_categorizer_prompt,\n",
    "            \"categorizer_output\": cls_result,\n",
    "            \"evaluator_output\": eval_result[\"reason\"]\n",
    "        })\n",
    "        opt_result = json.loads(opt_response.content.replace('`', '').replace('json', ''))\n",
    "\n",
    "        print(food_name, i, \"번째\")\n",
    "        print(\"before prompt:\", opt_categorizer_prompt)\n",
    "        print(\"eval_reason:\", eval_result[\"reason\"])\n",
    "        print(\"after prompt:\", opt_result[\"new_prompt\"])\n",
    "\n",
    "        opt_categorizer_prompt = opt_result[\"new_prompt\"]\n"
   ]
  },
  {
   "cell_type": "code",
   "execution_count": null,
   "metadata": {},
   "outputs": [],
   "source": []
  }
 ],
 "metadata": {
  "kernelspec": {
   "display_name": ".venv",
   "language": "python",
   "name": "python3"
  },
  "language_info": {
   "codemirror_mode": {
    "name": "ipython",
    "version": 3
   },
   "file_extension": ".py",
   "mimetype": "text/x-python",
   "name": "python",
   "nbconvert_exporter": "python",
   "pygments_lexer": "ipython3",
   "version": "3.12.9"
  }
 },
 "nbformat": 4,
 "nbformat_minor": 2
}
