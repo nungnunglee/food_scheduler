{
 "cells": [
  {
   "metadata": {},
   "cell_type": "markdown",
   "source": [
    "## 파일이 너무 크면 pandas로 읽어 지지 않음\n",
    "## 모두 csv로 바꾼 후 laod\n",
    "## 컬럼 많은 파일 합치기"
   ],
   "id": "b5ebc2474ba0eae2"
  },
  {
   "metadata": {},
   "cell_type": "markdown",
   "source": "## 하지만 카테고리 라벨이 없어서 로컬 LLM (Gemma3)를 사용하여 카테고리를 라벨링 하기로 결정!!",
   "id": "aa6e89f17f520b3"
  },
  {
   "metadata": {},
   "cell_type": "markdown",
   "source": [
    "### DB 해야할 거\n",
    "1. 음식 테이블의 스키마 정하기\n",
    "2. 카테고리 LLM으로 채워넣기 (not null)\n",
    "3. table 관계 짜서 mysql에 넣기\n",
    "4. 입출력 코드 일반화\n",
    "5. 서버와 연결"
   ],
   "id": "5a1f2bec8cb04ee3"
  },
  {
   "metadata": {
    "ExecuteTime": {
     "end_time": "2025-04-28T10:18:19.918524Z",
     "start_time": "2025-04-28T10:18:18.087526Z"
    }
   },
   "cell_type": "code",
   "source": [
    "import pandas as pd\n",
    "import os"
   ],
   "id": "initial_id",
   "outputs": [],
   "execution_count": 1
  },
  {
   "metadata": {
    "ExecuteTime": {
     "end_time": "2025-04-28T10:42:06.744350Z",
     "start_time": "2025-04-28T10:42:06.728350Z"
    }
   },
   "cell_type": "code",
   "source": [
    "# 왜 안됨?\n",
    "columns_types = {\n",
    "    '식품코드': 'object',\n",
    "    '식품명': 'object',\n",
    "    '데이터구분코드': 'object',\n",
    "    '데이터구분명': 'object',\n",
    "    '식품기원코드': 'object',\n",
    "    '식품기원명': 'object',\n",
    "    '식품대분류코드': 'object',\n",
    "    '식품대분류명': 'object',\n",
    "    '대표식품코드': 'object',\n",
    "    '대표식품명': 'object',\n",
    "    '식품중분류코드': 'object',\n",
    "    '식품중분류명': 'object',\n",
    "    '식품소분류코드': 'object',\n",
    "    '식품소분류명': 'object',\n",
    "    '식품세분류코드': 'object',\n",
    "    '식품세분류명': 'object',\n",
    "    '출처코드': 'int32',\n",
    "    '출처명': 'object',\n",
    "    '품목제조보고번호': 'object',\n",
    "    '업체명': 'object',\n",
    "    '제조사명': 'object',\n",
    "    '수입업체명': 'object',\n",
    "    '유통업체명': 'object',\n",
    "    '수입여부': 'object',\n",
    "    '원산지국코드': 'object',\n",
    "    '원산지국명': 'object',\n",
    "    '데이터생성방법코드': 'int32',\n",
    "    '데이터생성방법명': 'object',\n",
    "    '데이터기준일자': 'object',\n",
    "    '제공기관코드': 'int32',\n",
    "    '제공기관명': 'object',\n",
    "    '폐기율(%)': 'float64',\n",
    "    '식품중량': 'object',\n",
    "    '1회 섭취참고량': 'object',\n",
    "    '영양성분함량기준량': 'object',\n",
    "    '에너지(kcal)': 'float64',\n",
    "    '수분(g)': 'float64',\n",
    "    '단백질(g)': 'float64',\n",
    "    '지방(g)': 'float64',\n",
    "    '회분(g)': 'float64',\n",
    "    '탄수화물(g)': 'float64',\n",
    "    '당류(g)': 'float64',\n",
    "    '식이섬유(g)': 'float64',\n",
    "    '칼슘(mg)': 'float64',\n",
    "    '철(mg)': 'float64',\n",
    "    '인(mg)': 'float64',\n",
    "    '칼륨(mg)': 'float64',\n",
    "    '나트륨(mg)': 'float64',\n",
    "    '비타민A(μg RAE)': 'float64',\n",
    "    '레티놀(μg)': 'float64',\n",
    "    '베타카로틴(μg)': 'float64',\n",
    "    '티아민(mg)': 'float64',\n",
    "    '리보플라빈(mg)': 'float64',\n",
    "    '니아신(mg)': 'float64',\n",
    "    '비타민 C(mg)': 'float64',\n",
    "    '비타민 D(μg)': 'float64',\n",
    "    '콜레스테롤(mg)': 'float64',\n",
    "    '포화지방산(g)': 'float64',\n",
    "    '트랜스지방산(g)': 'float64'\n",
    "}"
   ],
   "id": "6558f0f8afe18e0f",
   "outputs": [],
   "execution_count": 50
  },
  {
   "metadata": {
    "ExecuteTime": {
     "end_time": "2025-04-28T10:24:25.717870Z",
     "start_time": "2025-04-28T10:24:25.693871Z"
    }
   },
   "cell_type": "code",
   "source": "all_columns_df = pd.read_csv(\"all_column.csv\", encoding=\"utf-8-sig\")",
   "id": "c8be622d7f281c05",
   "outputs": [],
   "execution_count": 16
  },
  {
   "metadata": {
    "ExecuteTime": {
     "end_time": "2025-04-28T10:24:25.875870Z",
     "start_time": "2025-04-28T10:24:25.858871Z"
    }
   },
   "cell_type": "code",
   "source": "my_columns = all_columns_df.csv_name.dropna().to_list()",
   "id": "5982a57dd2cb375a",
   "outputs": [],
   "execution_count": 17
  },
  {
   "metadata": {
    "ExecuteTime": {
     "end_time": "2025-04-28T10:25:17.723411Z",
     "start_time": "2025-04-28T10:25:17.703414Z"
    }
   },
   "cell_type": "code",
   "source": [
    "all_df = pd.DataFrame(columns=my_columns)\n",
    "# all_df = all_df.astype(columns_types)\n",
    "all_df.info()"
   ],
   "id": "ac90a129715c7548",
   "outputs": [
    {
     "name": "stdout",
     "output_type": "stream",
     "text": [
      "<class 'pandas.core.frame.DataFrame'>\n",
      "RangeIndex: 0 entries\n",
      "Data columns (total 59 columns):\n",
      " #   Column        Non-Null Count  Dtype \n",
      "---  ------        --------------  ----- \n",
      " 0   식품코드          0 non-null      object\n",
      " 1   식품명           0 non-null      object\n",
      " 2   데이터구분코드       0 non-null      object\n",
      " 3   데이터구분명        0 non-null      object\n",
      " 4   식품기원코드        0 non-null      object\n",
      " 5   식품기원명         0 non-null      object\n",
      " 6   식품대분류코드       0 non-null      object\n",
      " 7   식품대분류명        0 non-null      object\n",
      " 8   대표식품코드        0 non-null      object\n",
      " 9   대표식품명         0 non-null      object\n",
      " 10  식품중분류코드       0 non-null      object\n",
      " 11  식품중분류명        0 non-null      object\n",
      " 12  식품소분류코드       0 non-null      object\n",
      " 13  식품소분류명        0 non-null      object\n",
      " 14  식품세분류코드       0 non-null      object\n",
      " 15  식품세분류명        0 non-null      object\n",
      " 16  출처코드          0 non-null      object\n",
      " 17  출처명           0 non-null      object\n",
      " 18  품목제조보고번호      0 non-null      object\n",
      " 19  업체명           0 non-null      object\n",
      " 20  제조사명          0 non-null      object\n",
      " 21  수입업체명         0 non-null      object\n",
      " 22  유통업체명         0 non-null      object\n",
      " 23  수입여부          0 non-null      object\n",
      " 24  원산지국코드        0 non-null      object\n",
      " 25  원산지국명         0 non-null      object\n",
      " 26  데이터생성방법코드     0 non-null      object\n",
      " 27  데이터생성방법명      0 non-null      object\n",
      " 28  데이터기준일자       0 non-null      object\n",
      " 29  제공기관코드        0 non-null      object\n",
      " 30  제공기관명         0 non-null      object\n",
      " 31  폐기율(%)        0 non-null      object\n",
      " 32  식품중량          0 non-null      object\n",
      " 33  1회 섭취참고량      0 non-null      object\n",
      " 34  영양성분함량기준량     0 non-null      object\n",
      " 35  에너지(kcal)     0 non-null      object\n",
      " 36  수분(g)         0 non-null      object\n",
      " 37  단백질(g)        0 non-null      object\n",
      " 38  지방(g)         0 non-null      object\n",
      " 39  회분(g)         0 non-null      object\n",
      " 40  탄수화물(g)       0 non-null      object\n",
      " 41  당류(g)         0 non-null      object\n",
      " 42  식이섬유(g)       0 non-null      object\n",
      " 43  칼슘(mg)        0 non-null      object\n",
      " 44  철(mg)         0 non-null      object\n",
      " 45  인(mg)         0 non-null      object\n",
      " 46  칼륨(mg)        0 non-null      object\n",
      " 47  나트륨(mg)       0 non-null      object\n",
      " 48  비타민A(μg RAE)  0 non-null      object\n",
      " 49  레티놀(μg)       0 non-null      object\n",
      " 50  베타카로틴(μg)     0 non-null      object\n",
      " 51  티아민(mg)       0 non-null      object\n",
      " 52  리보플라빈(mg)     0 non-null      object\n",
      " 53  니아신(mg)       0 non-null      object\n",
      " 54  비타민 C(mg)     0 non-null      object\n",
      " 55  비타민 D(μg)     0 non-null      object\n",
      " 56  콜레스테롤(mg)     0 non-null      object\n",
      " 57  포화지방산(g)      0 non-null      object\n",
      " 58  트랜스지방산(g)     0 non-null      object\n",
      "dtypes: object(59)\n",
      "memory usage: 124.0+ bytes\n"
     ]
    }
   ],
   "execution_count": 22
  },
  {
   "metadata": {
    "ExecuteTime": {
     "end_time": "2025-04-28T10:25:21.955726Z",
     "start_time": "2025-04-28T10:25:21.950727Z"
    }
   },
   "cell_type": "code",
   "source": [
    "file_dir = \"source\"\n",
    "\n",
    "file_list = [table_file for table_file in os.listdir(file_dir) if table_file.endswith(\".csv\")]"
   ],
   "id": "2fc968a7c57de4f6",
   "outputs": [],
   "execution_count": 23
  },
  {
   "metadata": {
    "ExecuteTime": {
     "end_time": "2025-04-28T10:27:46.693683Z",
     "start_time": "2025-04-28T10:25:32.883039Z"
    }
   },
   "cell_type": "code",
   "source": [
    "for file in file_list:\n",
    "    for chunk in pd.read_csv(str(os.path.join(file_dir, file)), chunksize=5000, encoding=\"utf-8-sig\", dtype='object'):\n",
    "      all_df = pd.concat([all_df, chunk.reindex(columns=my_columns)], ignore_index=True)"
   ],
   "id": "708c673e90be0567",
   "outputs": [],
   "execution_count": 24
  },
  {
   "metadata": {
    "ExecuteTime": {
     "end_time": "2025-04-28T10:29:02.587125Z",
     "start_time": "2025-04-28T10:29:01.540079Z"
    }
   },
   "cell_type": "code",
   "source": "all_df.info()",
   "id": "bc1b650eb5034aaf",
   "outputs": [
    {
     "name": "stdout",
     "output_type": "stream",
     "text": [
      "<class 'pandas.core.frame.DataFrame'>\n",
      "RangeIndex: 613309 entries, 0 to 613308\n",
      "Data columns (total 59 columns):\n",
      " #   Column        Non-Null Count   Dtype \n",
      "---  ------        --------------   ----- \n",
      " 0   식품코드          613309 non-null  object\n",
      " 1   식품명           613309 non-null  object\n",
      " 2   데이터구분코드       613309 non-null  object\n",
      " 3   데이터구분명        613309 non-null  object\n",
      " 4   식품기원코드        397071 non-null  object\n",
      " 5   식품기원명         397071 non-null  object\n",
      " 6   식품대분류코드       397071 non-null  object\n",
      " 7   식품대분류명        397071 non-null  object\n",
      " 8   대표식품코드        397071 non-null  object\n",
      " 9   대표식품명         397071 non-null  object\n",
      " 10  식품중분류코드       397071 non-null  object\n",
      " 11  식품중분류명        397071 non-null  object\n",
      " 12  식품소분류코드       397071 non-null  object\n",
      " 13  식품소분류명        397071 non-null  object\n",
      " 14  식품세분류코드       397071 non-null  object\n",
      " 15  식품세분류명        397071 non-null  object\n",
      " 16  출처코드          613309 non-null  object\n",
      " 17  출처명           613309 non-null  object\n",
      " 18  품목제조보고번호      494246 non-null  object\n",
      " 19  업체명           79236 non-null   object\n",
      " 20  제조사명          532165 non-null  object\n",
      " 21  수입업체명         532165 non-null  object\n",
      " 22  유통업체명         532165 non-null  object\n",
      " 23  수입여부          539497 non-null  object\n",
      " 24  원산지국코드        41503 non-null   object\n",
      " 25  원산지국명         539497 non-null  object\n",
      " 26  데이터생성방법코드     613309 non-null  object\n",
      " 27  데이터생성방법명      613309 non-null  object\n",
      " 28  데이터기준일자       613309 non-null  object\n",
      " 29  제공기관코드        118250 non-null  object\n",
      " 30  제공기관명         118250 non-null  object\n",
      " 31  폐기율(%)        7242 non-null    object\n",
      " 32  식품중량          598869 non-null  object\n",
      " 33  1회 섭취참고량      288471 non-null  object\n",
      " 34  영양성분함량기준량     613309 non-null  object\n",
      " 35  에너지(kcal)     613309 non-null  object\n",
      " 36  수분(g)         35354 non-null   object\n",
      " 37  단백질(g)        613298 non-null  object\n",
      " 38  지방(g)         568457 non-null  object\n",
      " 39  회분(g)         19541 non-null   object\n",
      " 40  탄수화물(g)       570998 non-null  object\n",
      " 41  당류(g)         606319 non-null  object\n",
      " 42  식이섬유(g)       40358 non-null   object\n",
      " 43  칼슘(mg)        44782 non-null   object\n",
      " 44  철(mg)         38760 non-null   object\n",
      " 45  인(mg)         33524 non-null   object\n",
      " 46  칼륨(mg)        34050 non-null   object\n",
      " 47  나트륨(mg)       607805 non-null  object\n",
      " 48  비타민A(μg RAE)  1448 non-null    object\n",
      " 49  레티놀(μg)       31082 non-null   object\n",
      " 50  베타카로틴(μg)     29364 non-null   object\n",
      " 51  티아민(mg)       35061 non-null   object\n",
      " 52  리보플라빈(mg)     34982 non-null   object\n",
      " 53  니아신(mg)       34219 non-null   object\n",
      " 54  비타민 C(mg)     36216 non-null   object\n",
      " 55  비타민 D(μg)     29991 non-null   object\n",
      " 56  콜레스테롤(mg)     560956 non-null  object\n",
      " 57  포화지방산(g)      604791 non-null  object\n",
      " 58  트랜스지방산(g)     543092 non-null  object\n",
      "dtypes: object(59)\n",
      "memory usage: 276.1+ MB\n"
     ]
    }
   ],
   "execution_count": 25
  },
  {
   "metadata": {
    "ExecuteTime": {
     "end_time": "2025-04-28T10:29:12.741087Z",
     "start_time": "2025-04-28T10:29:11.391087Z"
    }
   },
   "cell_type": "code",
   "source": "unique_fid_all_df = all_df.groupby('식품코드').first()",
   "id": "becb54b03a55fcc0",
   "outputs": [],
   "execution_count": 26
  },
  {
   "metadata": {
    "ExecuteTime": {
     "end_time": "2025-04-28T10:44:46.136952Z",
     "start_time": "2025-04-28T10:44:45.892954Z"
    }
   },
   "cell_type": "code",
   "source": "unique_fid_all_df.info()",
   "id": "4b4da375b73908fe",
   "outputs": [
    {
     "name": "stdout",
     "output_type": "stream",
     "text": [
      "<class 'pandas.core.frame.DataFrame'>\n",
      "Index: 166248 entries, D101-004160000-0001 to R320-025030002-0000\n",
      "Data columns (total 58 columns):\n",
      " #   Column        Non-Null Count   Dtype \n",
      "---  ------        --------------   ----- \n",
      " 0   식품명           166248 non-null  object\n",
      " 1   데이터구분코드       166248 non-null  object\n",
      " 2   데이터구분명        166248 non-null  object\n",
      " 3   식품기원코드        166248 non-null  object\n",
      " 4   식품기원명         166248 non-null  object\n",
      " 5   식품대분류코드       166248 non-null  object\n",
      " 6   식품대분류명        166248 non-null  object\n",
      " 7   대표식품코드        166248 non-null  object\n",
      " 8   대표식품명         166248 non-null  object\n",
      " 9   식품중분류코드       166248 non-null  object\n",
      " 10  식품중분류명        166248 non-null  object\n",
      " 11  식품소분류코드       166248 non-null  object\n",
      " 12  식품소분류명        166248 non-null  object\n",
      " 13  식품세분류코드       166248 non-null  object\n",
      " 14  식품세분류명        166248 non-null  object\n",
      " 15  출처코드          166248 non-null  object\n",
      " 16  출처명           166248 non-null  object\n",
      " 17  품목제조보고번호      139968 non-null  object\n",
      " 18  업체명           18249 non-null   object\n",
      " 19  제조사명          151664 non-null  object\n",
      " 20  수입업체명         151664 non-null  object\n",
      " 21  유통업체명         151664 non-null  object\n",
      " 22  수입여부          151664 non-null  object\n",
      " 23  원산지국코드        12645 non-null   object\n",
      " 24  원산지국명         151664 non-null  object\n",
      " 25  데이터생성방법코드     166248 non-null  object\n",
      " 26  데이터생성방법명      166248 non-null  object\n",
      " 27  데이터기준일자       166248 non-null  object\n",
      " 28  제공기관코드        97833 non-null   object\n",
      " 29  제공기관명         97833 non-null   object\n",
      " 30  폐기율(%)        2127 non-null    object\n",
      " 31  식품중량          162134 non-null  object\n",
      " 32  1회 섭취참고량      126023 non-null  object\n",
      " 33  영양성분함량기준량     166248 non-null  object\n",
      " 34  에너지(kcal)     166248 non-null  object\n",
      " 35  수분(g)         8273 non-null    object\n",
      " 36  단백질(g)        166237 non-null  object\n",
      " 37  지방(g)         157428 non-null  object\n",
      " 38  회분(g)         5103 non-null    object\n",
      " 39  탄수화물(g)       157938 non-null  object\n",
      " 40  당류(g)         164303 non-null  object\n",
      " 41  식이섬유(g)       9608 non-null    object\n",
      " 42  칼슘(mg)        10589 non-null   object\n",
      " 43  철(mg)         9149 non-null    object\n",
      " 44  인(mg)         7751 non-null    object\n",
      " 45  칼륨(mg)        7896 non-null    object\n",
      " 46  나트륨(mg)       164742 non-null  object\n",
      " 47  비타민A(μg RAE)  1448 non-null    object\n",
      " 48  레티놀(μg)       7092 non-null    object\n",
      " 49  베타카로틴(μg)     6626 non-null    object\n",
      " 50  티아민(mg)       8138 non-null    object\n",
      " 51  리보플라빈(mg)     8117 non-null    object\n",
      " 52  니아신(mg)       7898 non-null    object\n",
      " 53  비타민 C(mg)     8455 non-null    object\n",
      " 54  비타민 D(μg)     6794 non-null    object\n",
      " 55  콜레스테롤(mg)     155363 non-null  object\n",
      " 56  포화지방산(g)      164004 non-null  object\n",
      " 57  트랜스지방산(g)     151719 non-null  object\n",
      "dtypes: object(58)\n",
      "memory usage: 78.9+ MB\n"
     ]
    }
   ],
   "execution_count": 54
  },
  {
   "metadata": {},
   "cell_type": "code",
   "outputs": [],
   "execution_count": 55,
   "source": "unique_fid_all_df.to_csv(\"combine_data.csv\", encoding=\"utf-8-sig\")",
   "id": "7e52dde06dde47b"
  },
  {
   "metadata": {},
   "cell_type": "code",
   "outputs": [],
   "execution_count": null,
   "source": "",
   "id": "6ac005ed593bb288"
  }
 ],
 "metadata": {
  "kernelspec": {
   "display_name": "Python 3",
   "language": "python",
   "name": "python3"
  },
  "language_info": {
   "codemirror_mode": {
    "name": "ipython",
    "version": 2
   },
   "file_extension": ".py",
   "mimetype": "text/x-python",
   "name": "python",
   "nbconvert_exporter": "python",
   "pygments_lexer": "ipython2",
   "version": "2.7.6"
  }
 },
 "nbformat": 4,
 "nbformat_minor": 5
}
